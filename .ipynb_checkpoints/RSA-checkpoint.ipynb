{
 "cells": [
  {
   "cell_type": "code",
   "execution_count": 7,
   "id": "8fc29cd0",
   "metadata": {},
   "outputs": [],
   "source": [
    "import math\n",
    "def checkPrime(n):\n",
    "    if(n==2):\n",
    "        return True\n",
    "    elif(n<2 or n%2==0 ):\n",
    "        return False\n",
    "    elif(n>2):\n",
    "        for i in range(2,math.ceil(math.sqrt(n))):\n",
    "            if not(n%i):\n",
    "                return False\n",
    "    return True\n",
    "\n",
    "def piN(p,q):\n",
    "    return (p-1)*(q-1)\n",
    "\n",
    "def gcd(a,b):\n",
    "    if(b==0):\n",
    "        return a\n",
    "    else:\n",
    "        return gcd(b,a%b)\n",
    "\n",
    "def chooseE(piN,n):\n",
    "    temp=[]\n",
    "    for j in range(2,piN):\n",
    "        if(gcd(j,piN)==1):\n",
    "            temp.append(j)\n",
    "    print(temp)\n",
    "    for i in temp:\n",
    "        if(gcd(i,n)==1):\n",
    "            return i\n",
    "        \n",
    "def chooseD(e,piN):\n",
    "    cnt=1\n",
    "    d=0.0\n",
    "    while(1):\n",
    "        d=((piN*cnt)+1)/e\n",
    "        if(d.is_integer()):\n",
    "            return int(d)\n",
    "        else:\n",
    "            cnt+=1\n",
    "        print(d)\n",
    "\n",
    "\n",
    "def take_input():\n",
    "    p = int(input('enter a prime number (p) :'))\n",
    "    q = int(input('enter a prime number (q):'))\n",
    "    if(checkPrime(p)==False or checkPrime(q)==False):\n",
    "        take_input()\n",
    "    NoCoPrime=piN(p,q)\n",
    "    n=p*q\n",
    "    e=chooseE(NoCoPrime,n)\n",
    "    d=chooseD(e,NoCoPrime)\n",
    "    print(\"Your Private Key is :\",\"[\",d,\",\",n,\"]\")\n",
    "    print(\"Your Public key is :\",\"[\",e,\",\",n,\"]\")\n",
    "    print(\"\\n\")\n",
    "    pt= str(input(\"Enter the text to get it encrypt :\"))\n",
    "    temp=[]\n",
    "    for i in pt.lower():\n",
    "        temp.append(ord(i)-96)\n",
    "    print(temp)\n",
    "    temp2=[]\n",
    "    for i in temp:\n",
    "        c=(i**e)%n\n",
    "        temp2.append(c)\n",
    "    print(temp2,\"\\n\")\n",
    "    temp3=[]\n",
    "    for j in temp2:\n",
    "        p=(j**d)%n\n",
    "        temp3.append(p)\n",
    "    print(temp3)\n",
    "    temp=[]\n",
    "    for i in temp3:\n",
    "        temp.append(chr(i+96))\n",
    "    print(temp)\n",
    "\n",
    "    "
   ]
  },
  {
   "cell_type": "code",
   "execution_count": 8,
   "id": "a0a05446",
   "metadata": {},
   "outputs": [
    {
     "name": "stdout",
     "output_type": "stream",
     "text": [
      "enter a prime number (p) :13\n",
      "enter a prime number (q):11\n",
      "[7, 11, 13, 17, 19, 23, 29, 31, 37, 41, 43, 47, 49, 53, 59, 61, 67, 71, 73, 77, 79, 83, 89, 91, 97, 101, 103, 107, 109, 113, 119]\n",
      "17.285714285714285\n",
      "34.42857142857143\n",
      "51.57142857142857\n",
      "68.71428571428571\n",
      "85.85714285714286\n",
      "Your Private Key is : [ 103 , 143 ]\n",
      "Your Public key is : [ 7 , 143 ]\n",
      "\n",
      "\n",
      "Enter the text to get it encrypt :rohan\n",
      "[18, 15, 8, 1, 14]\n",
      "[138, 115, 57, 1, 53] \n",
      "\n",
      "[18, 15, 8, 1, 14]\n",
      "['r', 'o', 'h', 'a', 'n']\n"
     ]
    }
   ],
   "source": [
    "take_input()"
   ]
  },
  {
   "cell_type": "code",
   "execution_count": 3,
   "id": "c5c6508c",
   "metadata": {},
   "outputs": [
    {
     "name": "stdout",
     "output_type": "stream",
     "text": [
      "[7, 11, 13, 17, 19, 23, 29, 31, 37, 41, 43, 47, 49, 53, 59, 61, 67, 71, 73, 77, 79, 83, 89, 91, 97, 101, 103, 107, 109, 113, 119]\n"
     ]
    },
    {
     "data": {
      "text/plain": [
       "7"
      ]
     },
     "execution_count": 3,
     "metadata": {},
     "output_type": "execute_result"
    }
   ],
   "source": [
    "chooseE(120,143)"
   ]
  },
  {
   "cell_type": "code",
   "execution_count": 4,
   "id": "09ca5dca",
   "metadata": {},
   "outputs": [
    {
     "data": {
      "text/plain": [
       "120"
      ]
     },
     "execution_count": 4,
     "metadata": {},
     "output_type": "execute_result"
    }
   ],
   "source": [
    "piN(13,11)"
   ]
  },
  {
   "cell_type": "code",
   "execution_count": 5,
   "id": "30d131a2",
   "metadata": {},
   "outputs": [
    {
     "data": {
      "text/plain": [
       "1"
      ]
     },
     "execution_count": 5,
     "metadata": {},
     "output_type": "execute_result"
    }
   ],
   "source": [
    "math.gcd(143,120)"
   ]
  },
  {
   "cell_type": "code",
   "execution_count": 6,
   "id": "7b5d336c",
   "metadata": {},
   "outputs": [
    {
     "name": "stdout",
     "output_type": "stream",
     "text": [
      "9.307692307692308\n",
      "18.53846153846154\n",
      "27.76923076923077\n"
     ]
    },
    {
     "data": {
      "text/plain": [
       "37"
      ]
     },
     "execution_count": 6,
     "metadata": {},
     "output_type": "execute_result"
    }
   ],
   "source": [
    "chooseD(13,120)"
   ]
  },
  {
   "cell_type": "code",
   "execution_count": null,
   "id": "202f7cba",
   "metadata": {},
   "outputs": [],
   "source": []
  },
  {
   "cell_type": "code",
   "execution_count": null,
   "id": "dc459d7f",
   "metadata": {},
   "outputs": [],
   "source": []
  }
 ],
 "metadata": {
  "kernelspec": {
   "display_name": "Python 3 (ipykernel)",
   "language": "python",
   "name": "python3"
  },
  "language_info": {
   "codemirror_mode": {
    "name": "ipython",
    "version": 3
   },
   "file_extension": ".py",
   "mimetype": "text/x-python",
   "name": "python",
   "nbconvert_exporter": "python",
   "pygments_lexer": "ipython3",
   "version": "3.9.7"
  }
 },
 "nbformat": 4,
 "nbformat_minor": 5
}
